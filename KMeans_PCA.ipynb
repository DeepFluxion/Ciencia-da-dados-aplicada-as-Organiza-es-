{
  "nbformat": 4,
  "nbformat_minor": 0,
  "metadata": {
    "kernelspec": {
      "display_name": "Python 3",
      "language": "python",
      "name": "python3"
    },
    "language_info": {
      "codemirror_mode": {
        "name": "ipython",
        "version": 3
      },
      "file_extension": ".py",
      "mimetype": "text/x-python",
      "name": "python",
      "nbconvert_exporter": "python",
      "pygments_lexer": "ipython3",
      "version": "3.6.8"
    },
    "colab": {
      "name": "KMeans PCA.ipynb",
      "provenance": [],
      "include_colab_link": true
    }
  },
  "cells": [
    {
      "cell_type": "markdown",
      "metadata": {
        "id": "view-in-github",
        "colab_type": "text"
      },
      "source": [
        "<a href=\"https://colab.research.google.com/github/DomingosN/Ciencia-da-dados-aplicada-as-Organiza-es-/blob/master/KMeans_PCA.ipynb\" target=\"_parent\"><img src=\"https://colab.research.google.com/assets/colab-badge.svg\" alt=\"Open In Colab\"/></a>"
      ]
    },
    {
      "cell_type": "markdown",
      "metadata": {
        "id": "HxwhPyjvllx8",
        "colab_type": "text"
      },
      "source": [
        "## Análise de Componentes Principais"
      ]
    },
    {
      "cell_type": "markdown",
      "metadata": {
        "id": "PGhL_DDfllx9",
        "colab_type": "text"
      },
      "source": [
        "Neste material vamos estudar um pouco a análise de componentes principais e depois vamos aplicar a técnica na base whisky.\n",
        "Este material foi adaptado o tutorial de Jake Van der Plas que você pode encontra neste [link](https://jakevdp.github.io/PythonDataScienceHandbook/05.09-principal-component-analysis.html) em muitos trechos foi feita a tradução e ajuste dos texto às nossas aulas, cabendo aqui explicar não iremos citá-lo diretamente por simpliciadade. "
      ]
    },
    {
      "cell_type": "markdown",
      "metadata": {
        "id": "ibnnxS_Pllx-",
        "colab_type": "text"
      },
      "source": [
        "### Importando as bibliotecas"
      ]
    },
    {
      "cell_type": "code",
      "metadata": {
        "id": "RsvyCONCllx_",
        "colab_type": "code",
        "colab": {}
      },
      "source": [
        "%matplotlib inline\n",
        "import pandas as pd\n",
        "import numpy as np\n",
        "import matplotlib.pyplot as plt\n",
        "import seaborn as sns\n",
        "from sklearn.decomposition import PCA"
      ],
      "execution_count": 0,
      "outputs": []
    },
    {
      "cell_type": "markdown",
      "metadata": {
        "id": "APQt4VnyllyD",
        "colab_type": "text"
      },
      "source": [
        "Até agora, alguns modelos de aprendizado supervisionado em particular aqueles que estimam rótulos com base em dados de treinamento rotulados. Aqui vamos examinar dois estimadores não supervisionados, que podem destacar aspectos interessantes dos dados sem referência a rótulos conhecidos. São eles a PCA e o KMeans\n",
        "\n",
        "Primeiro avmos explorar o que talvez seja um dos algoritmos não supervisionados mais amplamente utilizados, a análise de componentes principais (PCA). O PCA é fundamentalmente um algoritmo de redução de dimensionalidade, mas também pode ser útil como uma ferramenta para visualização, filtragem de ruído, extração e engenharia de atributos e muito mais. Após uma breve discussão conceitual do algoritmo PCA, veremos alguns exemplos dessas aplicações adicionais."
      ]
    },
    {
      "cell_type": "markdown",
      "metadata": {
        "id": "C8QzyDTpllyE",
        "colab_type": "text"
      },
      "source": [
        "Introdução à análise de componentes principais\n",
        "A análise de componentes principais é um método não supervisionado rápido e flexível para redução de dimensionalidade nos dados, que pode também ser visto brevemente nesta [Introdução ao Scikit Learn](https://jakevdp.github.io/PythonDataScienceHandbook/05.02-introducing-scikit-learn.html). \n",
        "Seu comportamento é mais fácil de visualizar, observando um conjunto de dados bidimensional. Considere os 200 pontos a seguir:"
      ]
    },
    {
      "cell_type": "code",
      "metadata": {
        "id": "tzOAU9P_llyE",
        "colab_type": "code",
        "colab": {},
        "outputId": "73386b2f-e1c3-48aa-fd36-81d560ae2635"
      },
      "source": [
        "rng = np.random.RandomState(1)\n",
        "X = np.dot(rng.rand(2, 2), rng.randn(2, 200)).T\n",
        "plt.scatter(X[:, 0], X[:, 1])\n",
        "plt.axis('equal');"
      ],
      "execution_count": 0,
      "outputs": [
        {
          "output_type": "display_data",
          "data": {
            "image/png": "[encoded data removed]",
            "text/plain": [
              "<Figure size 432x288 with 1 Axes>"
            ]
          },
          "metadata": {
            "tags": [],
            "needs_background": "light"
          }
        }
      ]
    },
    {
      "cell_type": "markdown",
      "metadata": {
        "id": "dWPSWh8jllyI",
        "colab_type": "text"
      },
      "source": [
        "Você pode perceber visualmente que existe uma relação quase linear entre as variáveis x e y. Isso lembra os dados de regressão linear, mas a configuração do problema aqui é um pouco diferente: em vez de tentar prever os valores de y a partir dos valores de x, o problema de aprendizado não supervisionado tenta aprender sobre a relação entre os valores x e y.\n",
        "\n",
        "Na análise de componentes principais, esse relacionamento é quantificado encontrando uma lista dos eixos principais nos dados e usando esses eixos para descrever o conjunto de dados. Usando o estimador PCA do Scikit-Learn, podemos calcular isso da seguinte maneira:"
      ]
    },
    {
      "cell_type": "code",
      "metadata": {
        "id": "rS5MsDF1llyJ",
        "colab_type": "code",
        "colab": {},
        "outputId": "61f11ed8-250f-4c49-fada-873c3a6ac0ef"
      },
      "source": [
        "pca = PCA(n_components=2)\n",
        "pca.fit(X)"
      ],
      "execution_count": 0,
      "outputs": [
        {
          "output_type": "execute_result",
          "data": {
            "text/plain": [
              "PCA(copy=True, iterated_power='auto', n_components=2, random_state=None,\n",
              "    svd_solver='auto', tol=0.0, whiten=False)"
            ]
          },
          "metadata": {
            "tags": []
          },
          "execution_count": 110
        }
      ]
    },
    {
      "cell_type": "markdown",
      "metadata": {
        "id": "Vn0kVxMTllyM",
        "colab_type": "text"
      },
      "source": [
        "O ajuste (fit) aprende algumas quantidades dos dados, principalmente os \"componentes\" e \"variação explicada\":"
      ]
    },
    {
      "cell_type": "code",
      "metadata": {
        "id": "9tNWJLN4llyM",
        "colab_type": "code",
        "colab": {},
        "outputId": "91c8a907-8b30-4e90-d171-9e80907ba169"
      },
      "source": [
        "print(pca.components_)"
      ],
      "execution_count": 0,
      "outputs": [
        {
          "output_type": "stream",
          "text": [
            "[[-0.94446029 -0.32862557]\n",
            " [-0.32862557  0.94446029]]\n"
          ],
          "name": "stdout"
        }
      ]
    },
    {
      "cell_type": "code",
      "metadata": {
        "id": "Fds5bxTkllyP",
        "colab_type": "code",
        "colab": {},
        "outputId": "62a1e63c-e28f-4d52-8df1-6ee7f497ac85"
      },
      "source": [
        "print(pca.explained_variance_)"
      ],
      "execution_count": 0,
      "outputs": [
        {
          "output_type": "stream",
          "text": [
            "[0.7625315 0.0184779]\n"
          ],
          "name": "stdout"
        }
      ]
    },
    {
      "cell_type": "markdown",
      "metadata": {
        "id": "QS0ExK1EllyS",
        "colab_type": "text"
      },
      "source": [
        "Para ver o que esses números significam, vamos visualizá-los como vetores sobre os dados de entrada, usando os \"componentes\" para definir a direção do vetor e a \"variação explicada\" para definir o comprimento ao quadrado do vetor:"
      ]
    },
    {
      "cell_type": "code",
      "metadata": {
        "id": "EpZkoT1allyT",
        "colab_type": "code",
        "colab": {},
        "outputId": "cb2c6b57-7a4e-4fe0-f7d4-9810d00e02b8"
      },
      "source": [
        "# função para desenahr os vetores dos componetes principais\n",
        "def draw_vector(v0, v1, ax=None):\n",
        "    ax = ax or plt.gca()\n",
        "    arrowprops=dict(arrowstyle='->',\n",
        "                    linewidth=2,\n",
        "                    shrinkA=0, shrinkB=0)\n",
        "    ax.annotate('', v1, v0, arrowprops=arrowprops)\n",
        "\n",
        "# Gráfico dos dados\n",
        "plt.scatter(X[:, 0], X[:, 1], alpha=0.2)\n",
        "for length, vector in zip(pca.explained_variance_, pca.components_):\n",
        "    v = vector * 3 * np.sqrt(length)\n",
        "    draw_vector(pca.mean_, pca.mean_ + v)\n",
        "plt.axis('equal');"
      ],
      "execution_count": 0,
      "outputs": [
        {
          "output_type": "display_data",
          "data": {
            "image/png": "[encoded data removed]",
            "text/plain": [
              "<Figure size 432x288 with 1 Axes>"
            ]
          },
          "metadata": {
            "tags": [],
            "needs_background": "light"
          }
        }
      ]
    },
    {
      "cell_type": "markdown",
      "metadata": {
        "id": "I6KL5sN8llyW",
        "colab_type": "text"
      },
      "source": [
        "Esses vetores representam os principais eixos dos dados e o comprimento do vetor é uma indicação de quão \"importante\" esse eixo é na descrição da distribuição dos dados - mais precisamente, é uma medida da variação dos dados quando projetados nesse eixo. A projeção de cada ponto de dados nos eixos principais são os \"componentes principais\" dos dados.\n",
        "\n",
        "Se traçarmos esses componentes principais ao lado dos dados originais, veremos os gráficos mostrados aqui:"
      ]
    },
    {
      "cell_type": "code",
      "metadata": {
        "id": "zLVf-qApllyX",
        "colab_type": "code",
        "colab": {},
        "outputId": "f64228d7-33b1-4637-dd48-e4a73db8f76f"
      },
      "source": [
        "rng = np.random.RandomState(1)\n",
        "X = np.dot(rng.rand(2, 2), rng.randn(2, 200)).T\n",
        "pca = PCA(n_components=2, whiten=True)\n",
        "pca.fit(X)\n",
        "\n",
        "fig, ax = plt.subplots(1, 2, figsize=(16, 6))\n",
        "fig.subplots_adjust(left=0.0625, right=0.95, wspace=0.1)\n",
        "\n",
        "# Gráfco dos dados\n",
        "ax[0].scatter(X[:, 0], X[:, 1], alpha=0.2)\n",
        "for length, vector in zip(pca.explained_variance_, pca.components_):\n",
        "    v = vector * 3 * np.sqrt(length)\n",
        "    draw_vector(pca.mean_, pca.mean_ + v, ax=ax[0])\n",
        "ax[0].axis('equal');\n",
        "ax[0].set(xlabel='x', ylabel='y', title='Dados de Entrada')\n",
        "\n",
        "# Gráfico das Componente Principais\n",
        "X_pca = pca.transform(X)\n",
        "ax[1].scatter(X_pca[:, 0], X_pca[:, 1], alpha=0.2)\n",
        "draw_vector([0, 0], [0, 3], ax=ax[1])\n",
        "draw_vector([0, 0], [3, 0], ax=ax[1])\n",
        "ax[1].axis('equal')\n",
        "ax[1].set(xlabel='componente 1', ylabel='componente 2',\n",
        "          title='Componetes Principais',\n",
        "          xlim=(-5, 5), ylim=(-3, 3.1))"
      ],
      "execution_count": 0,
      "outputs": [
        {
          "output_type": "execute_result",
          "data": {
            "text/plain": [
              "[(-3.0, 3.1),\n",
              " Text(0, 0.5, 'componente 2'),\n",
              " (-5.0, 5.0),\n",
              " Text(0.5, 0, 'componente 1'),\n",
              " Text(0.5, 1.0, 'Componetes Principais')]"
            ]
          },
          "metadata": {
            "tags": []
          },
          "execution_count": 114
        },
        {
          "output_type": "display_data",
          "data": {
            "image/png": "[encoded data removed]",
            "text/plain": [
              "<Figure size 1152x432 with 2 Axes>"
            ]
          },
          "metadata": {
            "tags": [],
            "needs_background": "light"
          }
        }
      ]
    },
    {
      "cell_type": "markdown",
      "metadata": {
        "id": "WgmbTIOlllyZ",
        "colab_type": "text"
      },
      "source": [
        "A ideia geral da PCA é de encontrar eixos principais e apresnetar as varíaveis x e y como se fossem projeções desses eixos fazendo algo parecido com que vemos nessa ![figura](http://www.alfaconnection.pro.br/images/VET020301a.gif)  \n",
        "Desre modo as duas componetes são como se fossem os valores projetados (como uma sombra nesse eixo) Para ter uam idéia de como funcioan quando temos muitas dimensões seria mais ou menos o seguinte:\n"
      ]
    },
    {
      "cell_type": "code",
      "metadata": {
        "id": "QX7lFmaFllya",
        "colab_type": "code",
        "colab": {},
        "outputId": "b5e94782-3113-4253-b368-ad987f9ef0ac"
      },
      "source": [
        "from IPython.display import YouTubeVideo\n",
        "# View animations of PCA modeling material elaborado por  Ricardo Gherardi Hein\n",
        "YouTubeVideo('4pnQd6jnCWk')"
      ],
      "execution_count": 0,
      "outputs": [
        {
          "output_type": "execute_result",
          "data": {
            "image/jpeg": "[encoded data removed]",
            "text/html": [
              "\n",
              "        <iframe\n",
              "            width=\"400\"\n",
              "            height=\"300\"\n",
              "            src=\"https://www.youtube.com/embed/4pnQd6jnCWk\"\n",
              "            frameborder=\"0\"\n",
              "            allowfullscreen\n",
              "        ></iframe>\n",
              "        "
            ],
            "text/plain": [
              "<IPython.lib.display.YouTubeVideo at 0x1ceec3884e0>"
            ]
          },
          "metadata": {
            "tags": []
          },
          "execution_count": 115
        }
      ]
    },
    {
      "cell_type": "code",
      "metadata": {
        "id": "U740rsZkllyc",
        "colab_type": "code",
        "colab": {}
      },
      "source": [
        "## Vamos ver como a PCA nos ajuda a trabalahr com o dataset whisky"
      ],
      "execution_count": 0,
      "outputs": []
    },
    {
      "cell_type": "code",
      "metadata": {
        "id": "RY_xIrI_llyf",
        "colab_type": "code",
        "colab": {}
      },
      "source": [
        "whisky = pd.read_csv('whisky.csv')"
      ],
      "execution_count": 0,
      "outputs": []
    },
    {
      "cell_type": "code",
      "metadata": {
        "id": "hjb9v9oZllyi",
        "colab_type": "code",
        "colab": {},
        "outputId": "c8380281-275e-4859-c4c3-e8c8d88b23a7"
      },
      "source": [
        "whisky"
      ],
      "execution_count": 0,
      "outputs": [
        {
          "output_type": "execute_result",
          "data": {
            "text/html": [
              "<div>\n",
              "<style scoped>\n",
              "    .dataframe tbody tr th:only-of-type {\n",
              "        vertical-align: middle;\n",
              "    }\n",
              "\n",
              "    .dataframe tbody tr th {\n",
              "        vertical-align: top;\n",
              "    }\n",
              "\n",
              "    .dataframe thead th {\n",
              "        text-align: right;\n",
              "    }\n",
              "</style>\n",
              "<table border=\"1\" class=\"dataframe\">\n",
              "  <thead>\n",
              "    <tr style=\"text-align: right;\">\n",
              "      <th></th>\n",
              "      <th>RowID</th>\n",
              "      <th>Distillery</th>\n",
              "      <th>Body</th>\n",
              "      <th>Sweetness</th>\n",
              "      <th>Smoky</th>\n",
              "      <th>Medicinal</th>\n",
              "      <th>Tobacco</th>\n",
              "      <th>Honey</th>\n",
              "      <th>Spicy</th>\n",
              "      <th>Winey</th>\n",
              "      <th>Nutty</th>\n",
              "      <th>Malty</th>\n",
              "      <th>Fruity</th>\n",
              "      <th>Floral</th>\n",
              "      <th>Postcode</th>\n",
              "      <th>Latitude</th>\n",
              "      <th>Longitude</th>\n",
              "    </tr>\n",
              "  </thead>\n",
              "  <tbody>\n",
              "    <tr>\n",
              "      <th>0</th>\n",
              "      <td>1</td>\n",
              "      <td>Aberfeldy</td>\n",
              "      <td>2</td>\n",
              "      <td>2</td>\n",
              "      <td>2</td>\n",
              "      <td>0</td>\n",
              "      <td>0</td>\n",
              "      <td>2</td>\n",
              "      <td>1</td>\n",
              "      <td>2</td>\n",
              "      <td>2</td>\n",
              "      <td>2</td>\n",
              "      <td>2</td>\n",
              "      <td>2</td>\n",
              "      <td>\\tPH15 2EB</td>\n",
              "      <td>286580</td>\n",
              "      <td>749680</td>\n",
              "    </tr>\n",
              "    <tr>\n",
              "      <th>1</th>\n",
              "      <td>2</td>\n",
              "      <td>Aberlour</td>\n",
              "      <td>3</td>\n",
              "      <td>3</td>\n",
              "      <td>1</td>\n",
              "      <td>0</td>\n",
              "      <td>0</td>\n",
              "      <td>4</td>\n",
              "      <td>3</td>\n",
              "      <td>2</td>\n",
              "      <td>2</td>\n",
              "      <td>3</td>\n",
              "      <td>3</td>\n",
              "      <td>2</td>\n",
              "      <td>\\tAB38 9PJ</td>\n",
              "      <td>326340</td>\n",
              "      <td>842570</td>\n",
              "    </tr>\n",
              "    <tr>\n",
              "      <th>2</th>\n",
              "      <td>3</td>\n",
              "      <td>AnCnoc</td>\n",
              "      <td>1</td>\n",
              "      <td>3</td>\n",
              "      <td>2</td>\n",
              "      <td>0</td>\n",
              "      <td>0</td>\n",
              "      <td>2</td>\n",
              "      <td>0</td>\n",
              "      <td>0</td>\n",
              "      <td>2</td>\n",
              "      <td>2</td>\n",
              "      <td>3</td>\n",
              "      <td>2</td>\n",
              "      <td>\\tAB5 5LI</td>\n",
              "      <td>352960</td>\n",
              "      <td>839320</td>\n",
              "    </tr>\n",
              "    <tr>\n",
              "      <th>3</th>\n",
              "      <td>4</td>\n",
              "      <td>Ardbeg</td>\n",
              "      <td>4</td>\n",
              "      <td>1</td>\n",
              "      <td>4</td>\n",
              "      <td>4</td>\n",
              "      <td>0</td>\n",
              "      <td>0</td>\n",
              "      <td>2</td>\n",
              "      <td>0</td>\n",
              "      <td>1</td>\n",
              "      <td>2</td>\n",
              "      <td>1</td>\n",
              "      <td>0</td>\n",
              "      <td>\\tPA42 7EB</td>\n",
              "      <td>141560</td>\n",
              "      <td>646220</td>\n",
              "    </tr>\n",
              "    <tr>\n",
              "      <th>4</th>\n",
              "      <td>5</td>\n",
              "      <td>Ardmore</td>\n",
              "      <td>2</td>\n",
              "      <td>2</td>\n",
              "      <td>2</td>\n",
              "      <td>0</td>\n",
              "      <td>0</td>\n",
              "      <td>1</td>\n",
              "      <td>1</td>\n",
              "      <td>1</td>\n",
              "      <td>2</td>\n",
              "      <td>3</td>\n",
              "      <td>1</td>\n",
              "      <td>1</td>\n",
              "      <td>\\tAB54 4NH</td>\n",
              "      <td>355350</td>\n",
              "      <td>829140</td>\n",
              "    </tr>\n",
              "    <tr>\n",
              "      <th>...</th>\n",
              "      <td>...</td>\n",
              "      <td>...</td>\n",
              "      <td>...</td>\n",
              "      <td>...</td>\n",
              "      <td>...</td>\n",
              "      <td>...</td>\n",
              "      <td>...</td>\n",
              "      <td>...</td>\n",
              "      <td>...</td>\n",
              "      <td>...</td>\n",
              "      <td>...</td>\n",
              "      <td>...</td>\n",
              "      <td>...</td>\n",
              "      <td>...</td>\n",
              "      <td>...</td>\n",
              "      <td>...</td>\n",
              "      <td>...</td>\n",
              "    </tr>\n",
              "    <tr>\n",
              "      <th>81</th>\n",
              "      <td>82</td>\n",
              "      <td>Tobermory</td>\n",
              "      <td>1</td>\n",
              "      <td>1</td>\n",
              "      <td>1</td>\n",
              "      <td>0</td>\n",
              "      <td>0</td>\n",
              "      <td>1</td>\n",
              "      <td>0</td>\n",
              "      <td>0</td>\n",
              "      <td>1</td>\n",
              "      <td>2</td>\n",
              "      <td>2</td>\n",
              "      <td>2</td>\n",
              "      <td>PA75 6NR</td>\n",
              "      <td>150450</td>\n",
              "      <td>755070</td>\n",
              "    </tr>\n",
              "    <tr>\n",
              "      <th>82</th>\n",
              "      <td>83</td>\n",
              "      <td>Tomatin</td>\n",
              "      <td>2</td>\n",
              "      <td>3</td>\n",
              "      <td>2</td>\n",
              "      <td>0</td>\n",
              "      <td>0</td>\n",
              "      <td>2</td>\n",
              "      <td>2</td>\n",
              "      <td>1</td>\n",
              "      <td>1</td>\n",
              "      <td>2</td>\n",
              "      <td>0</td>\n",
              "      <td>1</td>\n",
              "      <td>IV13 7YT</td>\n",
              "      <td>279120</td>\n",
              "      <td>829630</td>\n",
              "    </tr>\n",
              "    <tr>\n",
              "      <th>83</th>\n",
              "      <td>84</td>\n",
              "      <td>Tomintoul</td>\n",
              "      <td>0</td>\n",
              "      <td>3</td>\n",
              "      <td>1</td>\n",
              "      <td>0</td>\n",
              "      <td>0</td>\n",
              "      <td>2</td>\n",
              "      <td>2</td>\n",
              "      <td>1</td>\n",
              "      <td>1</td>\n",
              "      <td>2</td>\n",
              "      <td>1</td>\n",
              "      <td>2</td>\n",
              "      <td>AB37 9AQ</td>\n",
              "      <td>315100</td>\n",
              "      <td>825560</td>\n",
              "    </tr>\n",
              "    <tr>\n",
              "      <th>84</th>\n",
              "      <td>85</td>\n",
              "      <td>Tormore</td>\n",
              "      <td>2</td>\n",
              "      <td>2</td>\n",
              "      <td>1</td>\n",
              "      <td>0</td>\n",
              "      <td>0</td>\n",
              "      <td>1</td>\n",
              "      <td>0</td>\n",
              "      <td>1</td>\n",
              "      <td>2</td>\n",
              "      <td>1</td>\n",
              "      <td>0</td>\n",
              "      <td>0</td>\n",
              "      <td>PH26 3LR</td>\n",
              "      <td>315180</td>\n",
              "      <td>834960</td>\n",
              "    </tr>\n",
              "    <tr>\n",
              "      <th>85</th>\n",
              "      <td>86</td>\n",
              "      <td>Tullibardine</td>\n",
              "      <td>2</td>\n",
              "      <td>3</td>\n",
              "      <td>0</td>\n",
              "      <td>0</td>\n",
              "      <td>1</td>\n",
              "      <td>0</td>\n",
              "      <td>2</td>\n",
              "      <td>1</td>\n",
              "      <td>1</td>\n",
              "      <td>2</td>\n",
              "      <td>2</td>\n",
              "      <td>1</td>\n",
              "      <td>PH4 1QG</td>\n",
              "      <td>289690</td>\n",
              "      <td>708850</td>\n",
              "    </tr>\n",
              "  </tbody>\n",
              "</table>\n",
              "<p>86 rows × 17 columns</p>\n",
              "</div>"
            ],
            "text/plain": [
              "    RowID    Distillery  Body  Sweetness  Smoky  Medicinal  Tobacco  Honey  \\\n",
              "0       1     Aberfeldy     2          2      2          0        0      2   \n",
              "1       2      Aberlour     3          3      1          0        0      4   \n",
              "2       3        AnCnoc     1          3      2          0        0      2   \n",
              "3       4        Ardbeg     4          1      4          4        0      0   \n",
              "4       5       Ardmore     2          2      2          0        0      1   \n",
              "..    ...           ...   ...        ...    ...        ...      ...    ...   \n",
              "81     82     Tobermory     1          1      1          0        0      1   \n",
              "82     83       Tomatin     2          3      2          0        0      2   \n",
              "83     84     Tomintoul     0          3      1          0        0      2   \n",
              "84     85       Tormore     2          2      1          0        0      1   \n",
              "85     86  Tullibardine     2          3      0          0        1      0   \n",
              "\n",
              "    Spicy  Winey  Nutty  Malty  Fruity  Floral    Postcode  Latitude  \\\n",
              "0       1      2      2      2       2       2  \\tPH15 2EB    286580   \n",
              "1       3      2      2      3       3       2  \\tAB38 9PJ    326340   \n",
              "2       0      0      2      2       3       2   \\tAB5 5LI    352960   \n",
              "3       2      0      1      2       1       0  \\tPA42 7EB    141560   \n",
              "4       1      1      2      3       1       1  \\tAB54 4NH    355350   \n",
              "..    ...    ...    ...    ...     ...     ...         ...       ...   \n",
              "81      0      0      1      2       2       2    PA75 6NR    150450   \n",
              "82      2      1      1      2       0       1    IV13 7YT    279120   \n",
              "83      2      1      1      2       1       2    AB37 9AQ    315100   \n",
              "84      0      1      2      1       0       0    PH26 3LR    315180   \n",
              "85      2      1      1      2       2       1     PH4 1QG    289690   \n",
              "\n",
              "    Longitude  \n",
              "0      749680  \n",
              "1      842570  \n",
              "2      839320  \n",
              "3      646220  \n",
              "4      829140  \n",
              "..        ...  \n",
              "81     755070  \n",
              "82     829630  \n",
              "83     825560  \n",
              "84     834960  \n",
              "85     708850  \n",
              "\n",
              "[86 rows x 17 columns]"
            ]
          },
          "metadata": {
            "tags": []
          },
          "execution_count": 118
        }
      ]
    },
    {
      "cell_type": "code",
      "metadata": {
        "id": "Bq3Bl_Dvllyl",
        "colab_type": "code",
        "colab": {},
        "outputId": "d0f69078-3564-42f1-b204-4de168be7984"
      },
      "source": [
        "whisky.columns"
      ],
      "execution_count": 0,
      "outputs": [
        {
          "output_type": "execute_result",
          "data": {
            "text/plain": [
              "Index(['RowID', 'Distillery', 'Body', 'Sweetness', 'Smoky', 'Medicinal',\n",
              "       'Tobacco', 'Honey', 'Spicy', 'Winey', 'Nutty', 'Malty', 'Fruity',\n",
              "       'Floral', 'Postcode', 'Latitude', 'Longitude'],\n",
              "      dtype='object')"
            ]
          },
          "metadata": {
            "tags": []
          },
          "execution_count": 119
        }
      ]
    },
    {
      "cell_type": "code",
      "metadata": {
        "id": "kk9QcZBfllyn",
        "colab_type": "code",
        "colab": {}
      },
      "source": [
        "data = whisky.drop(['RowID', 'Distillery', 'Postcode', 'Latitude', 'Longitude'], axis=1)"
      ],
      "execution_count": 0,
      "outputs": []
    },
    {
      "cell_type": "code",
      "metadata": {
        "id": "5WFUMpUZllyr",
        "colab_type": "code",
        "colab": {},
        "outputId": "440b48b0-1333-4ade-d703-d25d0dc3023f"
      },
      "source": [
        "corr = data.corr()\n",
        "\n",
        "mask = np.triu(np.ones_like(corr, dtype=np.bool))\n",
        "\n",
        "f, ax = plt.subplots(figsize=(11, 9))\n",
        "\n",
        "cmap = sns.diverging_palette(220, 10, as_cmap=True)\n",
        "\n",
        "\n",
        "sns.heatmap(corr, mask=mask, cmap=cmap, vmax=.3, center=0,\n",
        "            square=True, linewidths=.5, cbar_kws={\"shrink\": .5})"
      ],
      "execution_count": 0,
      "outputs": [
        {
          "output_type": "execute_result",
          "data": {
            "text/plain": [
              "<matplotlib.axes._subplots.AxesSubplot at 0x1ceec388cc0>"
            ]
          },
          "metadata": {
            "tags": []
          },
          "execution_count": 121
        },
        {
          "output_type": "display_data",
          "data": {
            "image/png": "[encoded data removed]",
            "text/plain": [
              "<Figure size 792x648 with 2 Axes>"
            ]
          },
          "metadata": {
            "tags": [],
            "needs_background": "light"
          }
        }
      ]
    },
    {
      "cell_type": "code",
      "metadata": {
        "id": "adT0VRymllyt",
        "colab_type": "code",
        "colab": {},
        "outputId": "24778568-8edf-4990-947a-da3b94003891"
      },
      "source": [
        "pca = PCA(n_components=2)\n",
        "pca.fit(data)"
      ],
      "execution_count": 0,
      "outputs": [
        {
          "output_type": "execute_result",
          "data": {
            "text/plain": [
              "PCA(copy=True, iterated_power='auto', n_components=2, random_state=None,\n",
              "    svd_solver='auto', tol=0.0, whiten=False)"
            ]
          },
          "metadata": {
            "tags": []
          },
          "execution_count": 122
        }
      ]
    },
    {
      "cell_type": "code",
      "metadata": {
        "id": "bU1ALJmSllyw",
        "colab_type": "code",
        "colab": {},
        "outputId": "b146a326-7ae9-4a24-b490-1ddeff583267"
      },
      "source": [
        "print(pca.components_)"
      ],
      "execution_count": 0,
      "outputs": [
        {
          "output_type": "stream",
          "text": [
            "[[ 0.36119005 -0.20298238  0.47794419  0.57527678  0.09173306 -0.22090804\n",
            "   0.05811101 -0.03745608 -0.0476641  -0.12781608 -0.20235755 -0.38394443]\n",
            " [ 0.49130643  0.04659634  0.06874216 -0.16079484 -0.02004776  0.41799491\n",
            "   0.1754831   0.63964979  0.26036122  0.10296202  0.12374977 -0.13074914]]\n"
          ],
          "name": "stdout"
        }
      ]
    },
    {
      "cell_type": "code",
      "metadata": {
        "id": "xCZfcd3Zllyy",
        "colab_type": "code",
        "colab": {}
      },
      "source": [
        "comp = pd.DataFrame(pca.components_, columns=data.columns, index=['Componente 1', 'Componente 2'])"
      ],
      "execution_count": 0,
      "outputs": []
    },
    {
      "cell_type": "code",
      "metadata": {
        "id": "9WKhyjedlly0",
        "colab_type": "code",
        "colab": {},
        "outputId": "496f6599-62d8-4972-f109-aa04350cb889"
      },
      "source": [
        "ax = comp.T.plot(kind='barh', alpha=0.5, width=0.8, stacked=True)\n",
        "plt.figure(figsize=(20,20))\n",
        "plt.show()"
      ],
      "execution_count": 0,
      "outputs": [
        {
          "output_type": "display_data",
          "data": {
            "image/png": "[encoded data removed]",
            "text/plain": [
              "<Figure size 432x288 with 1 Axes>"
            ]
          },
          "metadata": {
            "tags": [],
            "needs_background": "light"
          }
        },
        {
          "output_type": "display_data",
          "data": {
            "text/plain": [
              "<Figure size 1440x1440 with 0 Axes>"
            ]
          },
          "metadata": {
            "tags": []
          }
        }
      ]
    },
    {
      "cell_type": "code",
      "metadata": {
        "id": "8f2APDThlly3",
        "colab_type": "code",
        "colab": {},
        "outputId": "1e3c3e8a-6d93-47cf-adf1-75c024163386"
      },
      "source": [
        "print(pca.explained_variance_ratio_)"
      ],
      "execution_count": 0,
      "outputs": [
        {
          "output_type": "stream",
          "text": [
            "[0.30110979 0.19217886]\n"
          ],
          "name": "stdout"
        }
      ]
    },
    {
      "cell_type": "markdown",
      "metadata": {
        "id": "n3HhR2VFlly5",
        "colab_type": "text"
      },
      "source": [
        "A Variância Explicada é um número, calculado objetivamente a partir dos dados observados e dos valores que o modelo em questão prediria, para indicar quão válido (quão próximo dos valores reais) o modelo proposto vem a ser. Via de regra, modelos mais complexos tem mais (e portanto melhor) variância explicada, mas em compensação são mais difíceis de utilizar para chegar a conclusões práticas."
      ]
    },
    {
      "cell_type": "code",
      "metadata": {
        "id": "1ovDVQbAlly5",
        "colab_type": "code",
        "colab": {}
      },
      "source": [
        "X = pca.fit_transform(data)"
      ],
      "execution_count": 0,
      "outputs": []
    },
    {
      "cell_type": "code",
      "metadata": {
        "id": "tiWP0Pbslly7",
        "colab_type": "code",
        "colab": {}
      },
      "source": [
        "data['PCA1']=X[:,0]\n",
        "data['PCA2']=X[:,1]"
      ],
      "execution_count": 0,
      "outputs": []
    },
    {
      "cell_type": "code",
      "metadata": {
        "id": "JsUFnlp_lly-",
        "colab_type": "code",
        "colab": {},
        "outputId": "63609612-5294-4f62-845d-335ec20abefd"
      },
      "source": [
        "plt.scatter(data.PCA1,data.PCA2)\n",
        "plt.hlines(0,data.PCA1.min(),data.PCA1.max())\n",
        "plt.vlines(0,data.PCA2.min(),data.PCA2.max())\n",
        "plt.xlabel('Compnente 1')\n",
        "plt.ylabel('Compnente 2')"
      ],
      "execution_count": 0,
      "outputs": [
        {
          "output_type": "execute_result",
          "data": {
            "text/plain": [
              "Text(0, 0.5, 'Compnente 2')"
            ]
          },
          "metadata": {
            "tags": []
          },
          "execution_count": 129
        },
        {
          "output_type": "display_data",
          "data": {
            "image/png": "[encoded data removed]",
            "text/plain": [
              "<Figure size 432x288 with 1 Axes>"
            ]
          },
          "metadata": {
            "tags": [],
            "needs_background": "light"
          }
        }
      ]
    },
    {
      "cell_type": "code",
      "metadata": {
        "id": "c9aofhptllzA",
        "colab_type": "code",
        "colab": {},
        "outputId": "c47880be-99f1-48c3-c0d6-850558cf5883"
      },
      "source": [
        "from sklearn.cluster import KMeans\n",
        "kmeans = KMeans(n_clusters=4)\n",
        "kmeans.fit(data)"
      ],
      "execution_count": 0,
      "outputs": [
        {
          "output_type": "execute_result",
          "data": {
            "text/plain": [
              "KMeans(algorithm='auto', copy_x=True, init='k-means++', max_iter=300,\n",
              "       n_clusters=4, n_init=10, n_jobs=None, precompute_distances='auto',\n",
              "       random_state=None, tol=0.0001, verbose=0)"
            ]
          },
          "metadata": {
            "tags": []
          },
          "execution_count": 130
        }
      ]
    },
    {
      "cell_type": "code",
      "metadata": {
        "id": "BH6-bSIlllzD",
        "colab_type": "code",
        "colab": {}
      },
      "source": [
        "data['Cluster']= kmeans.predict(data)"
      ],
      "execution_count": 0,
      "outputs": []
    },
    {
      "cell_type": "code",
      "metadata": {
        "id": "6P1MGNAellzF",
        "colab_type": "code",
        "colab": {},
        "outputId": "1f370d7d-22d0-4d91-e1e1-62d653891959"
      },
      "source": [
        "data.columns"
      ],
      "execution_count": 0,
      "outputs": [
        {
          "output_type": "execute_result",
          "data": {
            "text/plain": [
              "Index(['Body', 'Sweetness', 'Smoky', 'Medicinal', 'Tobacco', 'Honey', 'Spicy',\n",
              "       'Winey', 'Nutty', 'Malty', 'Fruity', 'Floral', 'PCA1', 'PCA2',\n",
              "       'Cluster'],\n",
              "      dtype='object')"
            ]
          },
          "metadata": {
            "tags": []
          },
          "execution_count": 132
        }
      ]
    },
    {
      "cell_type": "code",
      "metadata": {
        "id": "Nvg5v0tMllzI",
        "colab_type": "code",
        "colab": {},
        "outputId": "f8330e99-4a3a-41d3-fe2f-2f3fd6c34ab5"
      },
      "source": [
        "plt.figure(figsize=(15,15))\n",
        "fig, ax = plt.subplots()\n",
        "color = ['blue', 'orange', 'green', 'red']\n",
        "for i, cl in enumerate(data.Cluster.unique()):\n",
        "    x = data[data['Cluster']==cl]['PCA1']\n",
        "    y = data[data['Cluster']==cl]['PCA2']\n",
        "    ax.scatter(x, y, c=color[i], s=100, label=str(cl),alpha=0.3, edgecolors='k')\n",
        "\n",
        "ax.legend()\n",
        "ax.grid(True)\n",
        "ax.hlines(0,data.PCA1.min(),data.PCA1.max())\n",
        "ax.vlines(0,data.PCA2.min(),data.PCA2.max())\n",
        "ax.set_xlabel('Compnente 1')\n",
        "ax.set_ylabel('Compnente 2')\n",
        "plt.show()"
      ],
      "execution_count": 0,
      "outputs": [
        {
          "output_type": "display_data",
          "data": {
            "text/plain": [
              "<Figure size 1080x1080 with 0 Axes>"
            ]
          },
          "metadata": {
            "tags": []
          }
        },
        {
          "output_type": "display_data",
          "data": {
            "image/png": "[encoded data removed]",
            "text/plain": [
              "<Figure size 432x288 with 1 Axes>"
            ]
          },
          "metadata": {
            "tags": [],
            "needs_background": "light"
          }
        }
      ]
    },
    {
      "cell_type": "code",
      "metadata": {
        "id": "Z3Nl1HWqllzK",
        "colab_type": "code",
        "colab": {},
        "outputId": "9c54482f-49b1-44cd-ad32-cfdabf7bf291"
      },
      "source": [
        "comp"
      ],
      "execution_count": 0,
      "outputs": [
        {
          "output_type": "execute_result",
          "data": {
            "text/html": [
              "<div>\n",
              "<style scoped>\n",
              "    .dataframe tbody tr th:only-of-type {\n",
              "        vertical-align: middle;\n",
              "    }\n",
              "\n",
              "    .dataframe tbody tr th {\n",
              "        vertical-align: top;\n",
              "    }\n",
              "\n",
              "    .dataframe thead th {\n",
              "        text-align: right;\n",
              "    }\n",
              "</style>\n",
              "<table border=\"1\" class=\"dataframe\">\n",
              "  <thead>\n",
              "    <tr style=\"text-align: right;\">\n",
              "      <th></th>\n",
              "      <th>Body</th>\n",
              "      <th>Sweetness</th>\n",
              "      <th>Smoky</th>\n",
              "      <th>Medicinal</th>\n",
              "      <th>Tobacco</th>\n",
              "      <th>Honey</th>\n",
              "      <th>Spicy</th>\n",
              "      <th>Winey</th>\n",
              "      <th>Nutty</th>\n",
              "      <th>Malty</th>\n",
              "      <th>Fruity</th>\n",
              "      <th>Floral</th>\n",
              "    </tr>\n",
              "  </thead>\n",
              "  <tbody>\n",
              "    <tr>\n",
              "      <th>Componente 1</th>\n",
              "      <td>0.361190</td>\n",
              "      <td>-0.202982</td>\n",
              "      <td>0.477944</td>\n",
              "      <td>0.575277</td>\n",
              "      <td>0.091733</td>\n",
              "      <td>-0.220908</td>\n",
              "      <td>0.058111</td>\n",
              "      <td>-0.037456</td>\n",
              "      <td>-0.047664</td>\n",
              "      <td>-0.127816</td>\n",
              "      <td>-0.202358</td>\n",
              "      <td>-0.383944</td>\n",
              "    </tr>\n",
              "    <tr>\n",
              "      <th>Componente 2</th>\n",
              "      <td>0.491306</td>\n",
              "      <td>0.046596</td>\n",
              "      <td>0.068742</td>\n",
              "      <td>-0.160795</td>\n",
              "      <td>-0.020048</td>\n",
              "      <td>0.417995</td>\n",
              "      <td>0.175483</td>\n",
              "      <td>0.639650</td>\n",
              "      <td>0.260361</td>\n",
              "      <td>0.102962</td>\n",
              "      <td>0.123750</td>\n",
              "      <td>-0.130749</td>\n",
              "    </tr>\n",
              "  </tbody>\n",
              "</table>\n",
              "</div>"
            ],
            "text/plain": [
              "                  Body  Sweetness     Smoky  Medicinal   Tobacco     Honey  \\\n",
              "Componente 1  0.361190  -0.202982  0.477944   0.575277  0.091733 -0.220908   \n",
              "Componente 2  0.491306   0.046596  0.068742  -0.160795 -0.020048  0.417995   \n",
              "\n",
              "                 Spicy     Winey     Nutty     Malty    Fruity    Floral  \n",
              "Componente 1  0.058111 -0.037456 -0.047664 -0.127816 -0.202358 -0.383944  \n",
              "Componente 2  0.175483  0.639650  0.260361  0.102962  0.123750 -0.130749  "
            ]
          },
          "metadata": {
            "tags": []
          },
          "execution_count": 134
        }
      ]
    },
    {
      "cell_type": "code",
      "metadata": {
        "id": "VmFor9BpllzM",
        "colab_type": "code",
        "colab": {}
      },
      "source": [
        "gd = data.groupby(['Cluster']).mean()[['Body', 'Sweetness', 'Smoky', 'Medicinal', 'Tobacco', 'Honey', 'Spicy',\n",
        "                                      'Winey', 'Nutty', 'Malty', 'Fruity', 'Floral']]"
      ],
      "execution_count": 0,
      "outputs": []
    },
    {
      "cell_type": "code",
      "metadata": {
        "id": "laR16yobllzP",
        "colab_type": "code",
        "colab": {},
        "outputId": "705c5fac-322c-40d9-a550-85139e6a6ce2"
      },
      "source": [
        "gd.loc[0].values"
      ],
      "execution_count": 0,
      "outputs": [
        {
          "output_type": "execute_result",
          "data": {
            "text/plain": [
              "array([2.65517241, 2.4137931 , 1.4137931 , 0.06896552, 0.03448276,\n",
              "       1.86206897, 1.65517241, 1.79310345, 1.89655172, 2.03448276,\n",
              "       2.10344828, 1.75862069])"
            ]
          },
          "metadata": {
            "tags": []
          },
          "execution_count": 136
        }
      ]
    },
    {
      "cell_type": "code",
      "metadata": {
        "id": "wQrZFJxIllzR",
        "colab_type": "code",
        "colab": {},
        "outputId": "5d17b136-79ed-450a-a718-2e2389c9089d"
      },
      "source": [
        "gd.columns"
      ],
      "execution_count": 0,
      "outputs": [
        {
          "output_type": "execute_result",
          "data": {
            "text/plain": [
              "Index(['Body', 'Sweetness', 'Smoky', 'Medicinal', 'Tobacco', 'Honey', 'Spicy',\n",
              "       'Winey', 'Nutty', 'Malty', 'Fruity', 'Floral'],\n",
              "      dtype='object')"
            ]
          },
          "metadata": {
            "tags": []
          },
          "execution_count": 137
        }
      ]
    },
    {
      "cell_type": "code",
      "metadata": {
        "id": "mD6BrL9allzU",
        "colab_type": "code",
        "colab": {},
        "outputId": "c6793490-db49-4271-845b-a91bfb715de9"
      },
      "source": [
        "import plotly.graph_objects as go\n",
        "\n",
        "categories = gd.columns\n",
        "\n",
        "fig = go.Figure()\n",
        "\n",
        "fig.add_trace(go.Scatterpolar(\n",
        "      r=gd.loc[0].values,\n",
        "      theta=categories,\n",
        "      #fill='toself',\n",
        "      name='Cluster 1'\n",
        "))\n",
        "fig.add_trace(go.Scatterpolar(\n",
        "      r=gd.loc[1].values,\n",
        "      theta=categories,\n",
        "      #fill='toself',\n",
        "      name='Cluster 2'\n",
        "))\n",
        "fig.add_trace(go.Scatterpolar(\n",
        "      r=gd.loc[2].values,\n",
        "      theta=categories,\n",
        "      #fill='toself',\n",
        "      name='Cluster 3'\n",
        "))\n",
        "fig.add_trace(go.Scatterpolar(\n",
        "      r=gd.loc[3].values,\n",
        "      theta=categories,\n",
        "      #fill='toself',\n",
        "      name='Cluster 4'\n",
        "))\n",
        "\n",
        "fig.update_layout(\n",
        "  polar=dict(\n",
        "    radialaxis=dict(\n",
        "      visible=True,\n",
        "      range=[0, 4]\n",
        "    )),\n",
        "  showlegend=True\n",
        ")\n",
        "\n",
        "fig.show()"
      ],
      "execution_count": 0,
      "outputs": [
        {
          "output_type": "display_data",
          "data": {
            "application/vnd.plotly.v1+json": {
              "config": {
                "plotlyServerURL": "https://plot.ly"
              },
              "data": [
                {
                  "name": "Cluster 1",
                  "r": [
                    2.6551724137931036,
                    2.413793103448276,
                    1.4137931034482758,
                    0.06896551724137931,
                    0.034482758620689655,
                    1.8620689655172413,
                    1.6551724137931034,
                    1.793103448275862,
                    1.896551724137931,
                    2.0344827586206895,
                    2.103448275862069,
                    1.7586206896551724
                  ],
                  "theta": [
                    "Body",
                    "Sweetness",
                    "Smoky",
                    "Medicinal",
                    "Tobacco",
                    "Honey",
                    "Spicy",
                    "Winey",
                    "Nutty",
                    "Malty",
                    "Fruity",
                    "Floral"
                  ],
                  "type": "scatterpolar"
                },
                {
                  "name": "Cluster 2",
                  "r": [
                    1.9,
                    2.1,
                    1.95,
                    1.05,
                    0.2,
                    1,
                    1.5,
                    0.75,
                    1.35,
                    1.65,
                    1.3,
                    1.35
                  ],
                  "theta": [
                    "Body",
                    "Sweetness",
                    "Smoky",
                    "Medicinal",
                    "Tobacco",
                    "Honey",
                    "Spicy",
                    "Winey",
                    "Nutty",
                    "Malty",
                    "Fruity",
                    "Floral"
                  ],
                  "type": "scatterpolar"
                },
                {
                  "name": "Cluster 3",
                  "r": [
                    1.3225806451612903,
                    2.4516129032258065,
                    0.967741935483871,
                    0.12903225806451613,
                    0.03225806451612903,
                    1.032258064516129,
                    1,
                    0.45161290322580644,
                    1.1935483870967742,
                    1.7741935483870968,
                    1.967741935483871,
                    2.161290322580645
                  ],
                  "theta": [
                    "Body",
                    "Sweetness",
                    "Smoky",
                    "Medicinal",
                    "Tobacco",
                    "Honey",
                    "Spicy",
                    "Winey",
                    "Nutty",
                    "Malty",
                    "Fruity",
                    "Floral"
                  ],
                  "type": "scatterpolar"
                },
                {
                  "name": "Cluster 4",
                  "r": [
                    3.6666666666666665,
                    1.5,
                    3.6666666666666665,
                    3.3333333333333335,
                    0.6666666666666666,
                    0.16666666666666666,
                    1.6666666666666667,
                    0.5,
                    1.1666666666666667,
                    1.3333333333333333,
                    1.1666666666666667,
                    0.16666666666666666
                  ],
                  "theta": [
                    "Body",
                    "Sweetness",
                    "Smoky",
                    "Medicinal",
                    "Tobacco",
                    "Honey",
                    "Spicy",
                    "Winey",
                    "Nutty",
                    "Malty",
                    "Fruity",
                    "Floral"
                  ],
                  "type": "scatterpolar"
                }
              ],
              "layout": {
                "polar": {
                  "radialaxis": {
                    "range": [
                      0,
                      4
                    ],
                    "visible": true
                  }
                },
                "showlegend": true,
                "template": {
                  "data": {
                    "bar": [
                      {
                        "error_x": {
                          "color": "#2a3f5f"
                        },
                        "error_y": {
                          "color": "#2a3f5f"
                        },
                        "marker": {
                          "line": {
                            "color": "#E5ECF6",
                            "width": 0.5
                          }
                        },
                        "type": "bar"
                      }
                    ],
                    "barpolar": [
                      {
                        "marker": {
                          "line": {
                            "color": "#E5ECF6",
                            "width": 0.5
                          }
                        },
                        "type": "barpolar"
                      }
                    ],
                    "carpet": [
                      {
                        "aaxis": {
                          "endlinecolor": "#2a3f5f",
                          "gridcolor": "white",
                          "linecolor": "white",
                          "minorgridcolor": "white",
                          "startlinecolor": "#2a3f5f"
                        },
                        "baxis": {
                          "endlinecolor": "#2a3f5f",
                          "gridcolor": "white",
                          "linecolor": "white",
                          "minorgridcolor": "white",
                          "startlinecolor": "#2a3f5f"
                        },
                        "type": "carpet"
                      }
                    ],
                    "choropleth": [
                      {
                        "colorbar": {
                          "outlinewidth": 0,
                          "ticks": ""
                        },
                        "type": "choropleth"
                      }
                    ],
                    "contour": [
                      {
                        "colorbar": {
                          "outlinewidth": 0,
                          "ticks": ""
                        },
                        "colorscale": [
                          [
                            0,
                            "#0d0887"
                          ],
                          [
                            0.1111111111111111,
                            "#46039f"
                          ],
                          [
                            0.2222222222222222,
                            "#7201a8"
                          ],
                          [
                            0.3333333333333333,
                            "#9c179e"
                          ],
                          [
                            0.4444444444444444,
                            "#bd3786"
                          ],
                          [
                            0.5555555555555556,
                            "#d8576b"
                          ],
                          [
                            0.6666666666666666,
                            "#ed7953"
                          ],
                          [
                            0.7777777777777778,
                            "#fb9f3a"
                          ],
                          [
                            0.8888888888888888,
                            "#fdca26"
                          ],
                          [
                            1,
                            "#f0f921"
                          ]
                        ],
                        "type": "contour"
                      }
                    ],
                    "contourcarpet": [
                      {
                        "colorbar": {
                          "outlinewidth": 0,
                          "ticks": ""
                        },
                        "type": "contourcarpet"
                      }
                    ],
                    "heatmap": [
                      {
                        "colorbar": {
                          "outlinewidth": 0,
                          "ticks": ""
                        },
                        "colorscale": [
                          [
                            0,
                            "#0d0887"
                          ],
                          [
                            0.1111111111111111,
                            "#46039f"
                          ],
                          [
                            0.2222222222222222,
                            "#7201a8"
                          ],
                          [
                            0.3333333333333333,
                            "#9c179e"
                          ],
                          [
                            0.4444444444444444,
                            "#bd3786"
                          ],
                          [
                            0.5555555555555556,
                            "#d8576b"
                          ],
                          [
                            0.6666666666666666,
                            "#ed7953"
                          ],
                          [
                            0.7777777777777778,
                            "#fb9f3a"
                          ],
                          [
                            0.8888888888888888,
                            "#fdca26"
                          ],
                          [
                            1,
                            "#f0f921"
                          ]
                        ],
                        "type": "heatmap"
                      }
                    ],
                    "heatmapgl": [
                      {
                        "colorbar": {
                          "outlinewidth": 0,
                          "ticks": ""
                        },
                        "colorscale": [
                          [
                            0,
                            "#0d0887"
                          ],
                          [
                            0.1111111111111111,
                            "#46039f"
                          ],
                          [
                            0.2222222222222222,
                            "#7201a8"
                          ],
                          [
                            0.3333333333333333,
                            "#9c179e"
                          ],
                          [
                            0.4444444444444444,
                            "#bd3786"
                          ],
                          [
                            0.5555555555555556,
                            "#d8576b"
                          ],
                          [
                            0.6666666666666666,
                            "#ed7953"
                          ],
                          [
                            0.7777777777777778,
                            "#fb9f3a"
                          ],
                          [
                            0.8888888888888888,
                            "#fdca26"
                          ],
                          [
                            1,
                            "#f0f921"
                          ]
                        ],
                        "type": "heatmapgl"
                      }
                    ],
                    "histogram": [
                      {
                        "marker": {
                          "colorbar": {
                            "outlinewidth": 0,
                            "ticks": ""
                          }
                        },
                        "type": "histogram"
                      }
                    ],
                    "histogram2d": [
                      {
                        "colorbar": {
                          "outlinewidth": 0,
                          "ticks": ""
                        },
                        "colorscale": [
                          [
                            0,
                            "#0d0887"
                          ],
                          [
                            0.1111111111111111,
                            "#46039f"
                          ],
                          [
                            0.2222222222222222,
                            "#7201a8"
                          ],
                          [
                            0.3333333333333333,
                            "#9c179e"
                          ],
                          [
                            0.4444444444444444,
                            "#bd3786"
                          ],
                          [
                            0.5555555555555556,
                            "#d8576b"
                          ],
                          [
                            0.6666666666666666,
                            "#ed7953"
                          ],
                          [
                            0.7777777777777778,
                            "#fb9f3a"
                          ],
                          [
                            0.8888888888888888,
                            "#fdca26"
                          ],
                          [
                            1,
                            "#f0f921"
                          ]
                        ],
                        "type": "histogram2d"
                      }
                    ],
                    "histogram2dcontour": [
                      {
                        "colorbar": {
                          "outlinewidth": 0,
                          "ticks": ""
                        },
                        "colorscale": [
                          [
                            0,
                            "#0d0887"
                          ],
                          [
                            0.1111111111111111,
                            "#46039f"
                          ],
                          [
                            0.2222222222222222,
                            "#7201a8"
                          ],
                          [
                            0.3333333333333333,
                            "#9c179e"
                          ],
                          [
                            0.4444444444444444,
                            "#bd3786"
                          ],
                          [
                            0.5555555555555556,
                            "#d8576b"
                          ],
                          [
                            0.6666666666666666,
                            "#ed7953"
                          ],
                          [
                            0.7777777777777778,
                            "#fb9f3a"
                          ],
                          [
                            0.8888888888888888,
                            "#fdca26"
                          ],
                          [
                            1,
                            "#f0f921"
                          ]
                        ],
                        "type": "histogram2dcontour"
                      }
                    ],
                    "mesh3d": [
                      {
                        "colorbar": {
                          "outlinewidth": 0,
                          "ticks": ""
                        },
                        "type": "mesh3d"
                      }
                    ],
                    "parcoords": [
                      {
                        "line": {
                          "colorbar": {
                            "outlinewidth": 0,
                            "ticks": ""
                          }
                        },
                        "type": "parcoords"
                      }
                    ],
                    "pie": [
                      {
                        "automargin": true,
                        "type": "pie"
                      }
                    ],
                    "scatter": [
                      {
                        "marker": {
                          "colorbar": {
                            "outlinewidth": 0,
                            "ticks": ""
                          }
                        },
                        "type": "scatter"
                      }
                    ],
                    "scatter3d": [
                      {
                        "line": {
                          "colorbar": {
                            "outlinewidth": 0,
                            "ticks": ""
                          }
                        },
                        "marker": {
                          "colorbar": {
                            "outlinewidth": 0,
                            "ticks": ""
                          }
                        },
                        "type": "scatter3d"
                      }
                    ],
                    "scattercarpet": [
                      {
                        "marker": {
                          "colorbar": {
                            "outlinewidth": 0,
                            "ticks": ""
                          }
                        },
                        "type": "scattercarpet"
                      }
                    ],
                    "scattergeo": [
                      {
                        "marker": {
                          "colorbar": {
                            "outlinewidth": 0,
                            "ticks": ""
                          }
                        },
                        "type": "scattergeo"
                      }
                    ],
                    "scattergl": [
                      {
                        "marker": {
                          "colorbar": {
                            "outlinewidth": 0,
                            "ticks": ""
                          }
                        },
                        "type": "scattergl"
                      }
                    ],
                    "scattermapbox": [
                      {
                        "marker": {
                          "colorbar": {
                            "outlinewidth": 0,
                            "ticks": ""
                          }
                        },
                        "type": "scattermapbox"
                      }
                    ],
                    "scatterpolar": [
                      {
                        "marker": {
                          "colorbar": {
                            "outlinewidth": 0,
                            "ticks": ""
                          }
                        },
                        "type": "scatterpolar"
                      }
                    ],
                    "scatterpolargl": [
                      {
                        "marker": {
                          "colorbar": {
                            "outlinewidth": 0,
                            "ticks": ""
                          }
                        },
                        "type": "scatterpolargl"
                      }
                    ],
                    "scatterternary": [
                      {
                        "marker": {
                          "colorbar": {
                            "outlinewidth": 0,
                            "ticks": ""
                          }
                        },
                        "type": "scatterternary"
                      }
                    ],
                    "surface": [
                      {
                        "colorbar": {
                          "outlinewidth": 0,
                          "ticks": ""
                        },
                        "colorscale": [
                          [
                            0,
                            "#0d0887"
                          ],
                          [
                            0.1111111111111111,
                            "#46039f"
                          ],
                          [
                            0.2222222222222222,
                            "#7201a8"
                          ],
                          [
                            0.3333333333333333,
                            "#9c179e"
                          ],
                          [
                            0.4444444444444444,
                            "#bd3786"
                          ],
                          [
                            0.5555555555555556,
                            "#d8576b"
                          ],
                          [
                            0.6666666666666666,
                            "#ed7953"
                          ],
                          [
                            0.7777777777777778,
                            "#fb9f3a"
                          ],
                          [
                            0.8888888888888888,
                            "#fdca26"
                          ],
                          [
                            1,
                            "#f0f921"
                          ]
                        ],
                        "type": "surface"
                      }
                    ],
                    "table": [
                      {
                        "cells": {
                          "fill": {
                            "color": "#EBF0F8"
                          },
                          "line": {
                            "color": "white"
                          }
                        },
                        "header": {
                          "fill": {
                            "color": "#C8D4E3"
                          },
                          "line": {
                            "color": "white"
                          }
                        },
                        "type": "table"
                      }
                    ]
                  },
                  "layout": {
                    "annotationdefaults": {
                      "arrowcolor": "#2a3f5f",
                      "arrowhead": 0,
                      "arrowwidth": 1
                    },
                    "coloraxis": {
                      "colorbar": {
                        "outlinewidth": 0,
                        "ticks": ""
                      }
                    },
                    "colorscale": {
                      "diverging": [
                        [
                          0,
                          "#8e0152"
                        ],
                        [
                          0.1,
                          "#c51b7d"
                        ],
                        [
                          0.2,
                          "#de77ae"
                        ],
                        [
                          0.3,
                          "#f1b6da"
                        ],
                        [
                          0.4,
                          "#fde0ef"
                        ],
                        [
                          0.5,
                          "#f7f7f7"
                        ],
                        [
                          0.6,
                          "#e6f5d0"
                        ],
                        [
                          0.7,
                          "#b8e186"
                        ],
                        [
                          0.8,
                          "#7fbc41"
                        ],
                        [
                          0.9,
                          "#4d9221"
                        ],
                        [
                          1,
                          "#276419"
                        ]
                      ],
                      "sequential": [
                        [
                          0,
                          "#0d0887"
                        ],
                        [
                          0.1111111111111111,
                          "#46039f"
                        ],
                        [
                          0.2222222222222222,
                          "#7201a8"
                        ],
                        [
                          0.3333333333333333,
                          "#9c179e"
                        ],
                        [
                          0.4444444444444444,
                          "#bd3786"
                        ],
                        [
                          0.5555555555555556,
                          "#d8576b"
                        ],
                        [
                          0.6666666666666666,
                          "#ed7953"
                        ],
                        [
                          0.7777777777777778,
                          "#fb9f3a"
                        ],
                        [
                          0.8888888888888888,
                          "#fdca26"
                        ],
                        [
                          1,
                          "#f0f921"
                        ]
                      ],
                      "sequentialminus": [
                        [
                          0,
                          "#0d0887"
                        ],
                        [
                          0.1111111111111111,
                          "#46039f"
                        ],
                        [
                          0.2222222222222222,
                          "#7201a8"
                        ],
                        [
                          0.3333333333333333,
                          "#9c179e"
                        ],
                        [
                          0.4444444444444444,
                          "#bd3786"
                        ],
                        [
                          0.5555555555555556,
                          "#d8576b"
                        ],
                        [
                          0.6666666666666666,
                          "#ed7953"
                        ],
                        [
                          0.7777777777777778,
                          "#fb9f3a"
                        ],
                        [
                          0.8888888888888888,
                          "#fdca26"
                        ],
                        [
                          1,
                          "#f0f921"
                        ]
                      ]
                    },
                    "colorway": [
                      "#636efa",
                      "#EF553B",
                      "#00cc96",
                      "#ab63fa",
                      "#FFA15A",
                      "#19d3f3",
                      "#FF6692",
                      "#B6E880",
                      "#FF97FF",
                      "#FECB52"
                    ],
                    "font": {
                      "color": "#2a3f5f"
                    },
                    "geo": {
                      "bgcolor": "white",
                      "lakecolor": "white",
                      "landcolor": "#E5ECF6",
                      "showlakes": true,
                      "showland": true,
                      "subunitcolor": "white"
                    },
                    "hoverlabel": {
                      "align": "left"
                    },
                    "hovermode": "closest",
                    "mapbox": {
                      "style": "light"
                    },
                    "paper_bgcolor": "white",
                    "plot_bgcolor": "#E5ECF6",
                    "polar": {
                      "angularaxis": {
                        "gridcolor": "white",
                        "linecolor": "white",
                        "ticks": ""
                      },
                      "bgcolor": "#E5ECF6",
                      "radialaxis": {
                        "gridcolor": "white",
                        "linecolor": "white",
                        "ticks": ""
                      }
                    },
                    "scene": {
                      "xaxis": {
                        "backgroundcolor": "#E5ECF6",
                        "gridcolor": "white",
                        "gridwidth": 2,
                        "linecolor": "white",
                        "showbackground": true,
                        "ticks": "",
                        "zerolinecolor": "white"
                      },
                      "yaxis": {
                        "backgroundcolor": "#E5ECF6",
                        "gridcolor": "white",
                        "gridwidth": 2,
                        "linecolor": "white",
                        "showbackground": true,
                        "ticks": "",
                        "zerolinecolor": "white"
                      },
                      "zaxis": {
                        "backgroundcolor": "#E5ECF6",
                        "gridcolor": "white",
                        "gridwidth": 2,
                        "linecolor": "white",
                        "showbackground": true,
                        "ticks": "",
                        "zerolinecolor": "white"
                      }
                    },
                    "shapedefaults": {
                      "line": {
                        "color": "#2a3f5f"
                      }
                    },
                    "ternary": {
                      "aaxis": {
                        "gridcolor": "white",
                        "linecolor": "white",
                        "ticks": ""
                      },
                      "baxis": {
                        "gridcolor": "white",
                        "linecolor": "white",
                        "ticks": ""
                      },
                      "bgcolor": "#E5ECF6",
                      "caxis": {
                        "gridcolor": "white",
                        "linecolor": "white",
                        "ticks": ""
                      }
                    },
                    "title": {
                      "x": 0.05
                    },
                    "xaxis": {
                      "automargin": true,
                      "gridcolor": "white",
                      "linecolor": "white",
                      "ticks": "",
                      "title": {
                        "standoff": 15
                      },
                      "zerolinecolor": "white",
                      "zerolinewidth": 2
                    },
                    "yaxis": {
                      "automargin": true,
                      "gridcolor": "white",
                      "linecolor": "white",
                      "ticks": "",
                      "title": {
                        "standoff": 15
                      },
                      "zerolinecolor": "white",
                      "zerolinewidth": 2
                    }
                  }
                }
              }
            },
            "text/html": [
              "<div>\n",
              "        \n",
              "        \n",
              "            <div id=\"07f6e9a9-00bf-4e1b-8d0a-4a76059d67c9\" class=\"plotly-graph-div\" style=\"height:525px; width:100%;\"></div>\n",
              "            <script type=\"text/javascript\">\n",
              "                require([\"plotly\"], function(Plotly) {\n",
              "                    window.PLOTLYENV=window.PLOTLYENV || {};\n",
              "                    \n",
              "                if (document.getElementById(\"07f6e9a9-00bf-4e1b-8d0a-4a76059d67c9\")) {\n",
              "                    Plotly.newPlot(\n",
              "                        '07f6e9a9-00bf-4e1b-8d0a-4a76059d67c9',\n",
              "                        [{\"name\": \"Cluster 1\", \"r\": [2.6551724137931036, 2.413793103448276, 1.4137931034482758, 0.06896551724137931, 0.034482758620689655, 1.8620689655172413, 1.6551724137931034, 1.793103448275862, 1.896551724137931, 2.0344827586206895, 2.103448275862069, 1.7586206896551724], \"theta\": [\"Body\", \"Sweetness\", \"Smoky\", \"Medicinal\", \"Tobacco\", \"Honey\", \"Spicy\", \"Winey\", \"Nutty\", \"Malty\", \"Fruity\", \"Floral\"], \"type\": \"scatterpolar\"}, {\"name\": \"Cluster 2\", \"r\": [1.9, 2.1, 1.95, 1.05, 0.2, 1.0, 1.5, 0.75, 1.35, 1.65, 1.3, 1.35], \"theta\": [\"Body\", \"Sweetness\", \"Smoky\", \"Medicinal\", \"Tobacco\", \"Honey\", \"Spicy\", \"Winey\", \"Nutty\", \"Malty\", \"Fruity\", \"Floral\"], \"type\": \"scatterpolar\"}, {\"name\": \"Cluster 3\", \"r\": [1.3225806451612903, 2.4516129032258065, 0.967741935483871, 0.12903225806451613, 0.03225806451612903, 1.032258064516129, 1.0, 0.45161290322580644, 1.1935483870967742, 1.7741935483870968, 1.967741935483871, 2.161290322580645], \"theta\": [\"Body\", \"Sweetness\", \"Smoky\", \"Medicinal\", \"Tobacco\", \"Honey\", \"Spicy\", \"Winey\", \"Nutty\", \"Malty\", \"Fruity\", \"Floral\"], \"type\": \"scatterpolar\"}, {\"name\": \"Cluster 4\", \"r\": [3.6666666666666665, 1.5, 3.6666666666666665, 3.3333333333333335, 0.6666666666666666, 0.16666666666666666, 1.6666666666666667, 0.5, 1.1666666666666667, 1.3333333333333333, 1.1666666666666667, 0.16666666666666666], \"theta\": [\"Body\", \"Sweetness\", \"Smoky\", \"Medicinal\", \"Tobacco\", \"Honey\", \"Spicy\", \"Winey\", \"Nutty\", \"Malty\", \"Fruity\", \"Floral\"], \"type\": \"scatterpolar\"}],\n",
              "                        {\"polar\": {\"radialaxis\": {\"range\": [0, 4], \"visible\": true}}, \"showlegend\": true, \"template\": {\"data\": {\"bar\": [{\"error_x\": {\"color\": \"#2a3f5f\"}, \"error_y\": {\"color\": \"#2a3f5f\"}, \"marker\": {\"line\": {\"color\": \"#E5ECF6\", \"width\": 0.5}}, \"type\": \"bar\"}], \"barpolar\": [{\"marker\": {\"line\": {\"color\": \"#E5ECF6\", \"width\": 0.5}}, \"type\": \"barpolar\"}], \"carpet\": [{\"aaxis\": {\"endlinecolor\": \"#2a3f5f\", \"gridcolor\": \"white\", \"linecolor\": \"white\", \"minorgridcolor\": \"white\", \"startlinecolor\": \"#2a3f5f\"}, \"baxis\": {\"endlinecolor\": \"#2a3f5f\", \"gridcolor\": \"white\", \"linecolor\": \"white\", \"minorgridcolor\": \"white\", \"startlinecolor\": \"#2a3f5f\"}, \"type\": \"carpet\"}], \"choropleth\": [{\"colorbar\": {\"outlinewidth\": 0, \"ticks\": \"\"}, \"type\": \"choropleth\"}], \"contour\": [{\"colorbar\": {\"outlinewidth\": 0, \"ticks\": \"\"}, \"colorscale\": [[0.0, \"#0d0887\"], [0.1111111111111111, \"#46039f\"], [0.2222222222222222, \"#7201a8\"], [0.3333333333333333, \"#9c179e\"], [0.4444444444444444, \"#bd3786\"], [0.5555555555555556, \"#d8576b\"], [0.6666666666666666, \"#ed7953\"], [0.7777777777777778, \"#fb9f3a\"], [0.8888888888888888, \"#fdca26\"], [1.0, \"#f0f921\"]], \"type\": \"contour\"}], \"contourcarpet\": [{\"colorbar\": {\"outlinewidth\": 0, \"ticks\": \"\"}, \"type\": \"contourcarpet\"}], \"heatmap\": [{\"colorbar\": {\"outlinewidth\": 0, \"ticks\": \"\"}, \"colorscale\": [[0.0, \"#0d0887\"], [0.1111111111111111, \"#46039f\"], [0.2222222222222222, \"#7201a8\"], [0.3333333333333333, \"#9c179e\"], [0.4444444444444444, \"#bd3786\"], [0.5555555555555556, \"#d8576b\"], [0.6666666666666666, \"#ed7953\"], [0.7777777777777778, \"#fb9f3a\"], [0.8888888888888888, \"#fdca26\"], [1.0, \"#f0f921\"]], \"type\": \"heatmap\"}], \"heatmapgl\": [{\"colorbar\": {\"outlinewidth\": 0, \"ticks\": \"\"}, \"colorscale\": [[0.0, \"#0d0887\"], [0.1111111111111111, \"#46039f\"], [0.2222222222222222, \"#7201a8\"], [0.3333333333333333, \"#9c179e\"], [0.4444444444444444, \"#bd3786\"], [0.5555555555555556, \"#d8576b\"], [0.6666666666666666, \"#ed7953\"], [0.7777777777777778, \"#fb9f3a\"], [0.8888888888888888, \"#fdca26\"], [1.0, \"#f0f921\"]], \"type\": \"heatmapgl\"}], \"histogram\": [{\"marker\": {\"colorbar\": {\"outlinewidth\": 0, \"ticks\": \"\"}}, \"type\": \"histogram\"}], \"histogram2d\": [{\"colorbar\": {\"outlinewidth\": 0, \"ticks\": \"\"}, \"colorscale\": [[0.0, \"#0d0887\"], [0.1111111111111111, \"#46039f\"], [0.2222222222222222, \"#7201a8\"], [0.3333333333333333, \"#9c179e\"], [0.4444444444444444, \"#bd3786\"], [0.5555555555555556, \"#d8576b\"], [0.6666666666666666, \"#ed7953\"], [0.7777777777777778, \"#fb9f3a\"], [0.8888888888888888, \"#fdca26\"], [1.0, \"#f0f921\"]], \"type\": \"histogram2d\"}], \"histogram2dcontour\": [{\"colorbar\": {\"outlinewidth\": 0, \"ticks\": \"\"}, \"colorscale\": [[0.0, \"#0d0887\"], [0.1111111111111111, \"#46039f\"], [0.2222222222222222, \"#7201a8\"], [0.3333333333333333, \"#9c179e\"], [0.4444444444444444, \"#bd3786\"], [0.5555555555555556, \"#d8576b\"], [0.6666666666666666, \"#ed7953\"], [0.7777777777777778, \"#fb9f3a\"], [0.8888888888888888, \"#fdca26\"], [1.0, \"#f0f921\"]], \"type\": \"histogram2dcontour\"}], \"mesh3d\": [{\"colorbar\": {\"outlinewidth\": 0, \"ticks\": \"\"}, \"type\": \"mesh3d\"}], \"parcoords\": [{\"line\": {\"colorbar\": {\"outlinewidth\": 0, \"ticks\": \"\"}}, \"type\": \"parcoords\"}], \"pie\": [{\"automargin\": true, \"type\": \"pie\"}], \"scatter\": [{\"marker\": {\"colorbar\": {\"outlinewidth\": 0, \"ticks\": \"\"}}, \"type\": \"scatter\"}], \"scatter3d\": [{\"line\": {\"colorbar\": {\"outlinewidth\": 0, \"ticks\": \"\"}}, \"marker\": {\"colorbar\": {\"outlinewidth\": 0, \"ticks\": \"\"}}, \"type\": \"scatter3d\"}], \"scattercarpet\": [{\"marker\": {\"colorbar\": {\"outlinewidth\": 0, \"ticks\": \"\"}}, \"type\": \"scattercarpet\"}], \"scattergeo\": [{\"marker\": {\"colorbar\": {\"outlinewidth\": 0, \"ticks\": \"\"}}, \"type\": \"scattergeo\"}], \"scattergl\": [{\"marker\": {\"colorbar\": {\"outlinewidth\": 0, \"ticks\": \"\"}}, \"type\": \"scattergl\"}], \"scattermapbox\": [{\"marker\": {\"colorbar\": {\"outlinewidth\": 0, \"ticks\": \"\"}}, \"type\": \"scattermapbox\"}], \"scatterpolar\": [{\"marker\": {\"colorbar\": {\"outlinewidth\": 0, \"ticks\": \"\"}}, \"type\": \"scatterpolar\"}], \"scatterpolargl\": [{\"marker\": {\"colorbar\": {\"outlinewidth\": 0, \"ticks\": \"\"}}, \"type\": \"scatterpolargl\"}], \"scatterternary\": [{\"marker\": {\"colorbar\": {\"outlinewidth\": 0, \"ticks\": \"\"}}, \"type\": \"scatterternary\"}], \"surface\": [{\"colorbar\": {\"outlinewidth\": 0, \"ticks\": \"\"}, \"colorscale\": [[0.0, \"#0d0887\"], [0.1111111111111111, \"#46039f\"], [0.2222222222222222, \"#7201a8\"], [0.3333333333333333, \"#9c179e\"], [0.4444444444444444, \"#bd3786\"], [0.5555555555555556, \"#d8576b\"], [0.6666666666666666, \"#ed7953\"], [0.7777777777777778, \"#fb9f3a\"], [0.8888888888888888, \"#fdca26\"], [1.0, \"#f0f921\"]], \"type\": \"surface\"}], \"table\": [{\"cells\": {\"fill\": {\"color\": \"#EBF0F8\"}, \"line\": {\"color\": \"white\"}}, \"header\": {\"fill\": {\"color\": \"#C8D4E3\"}, \"line\": {\"color\": \"white\"}}, \"type\": \"table\"}]}, \"layout\": {\"annotationdefaults\": {\"arrowcolor\": \"#2a3f5f\", \"arrowhead\": 0, \"arrowwidth\": 1}, \"coloraxis\": {\"colorbar\": {\"outlinewidth\": 0, \"ticks\": \"\"}}, \"colorscale\": {\"diverging\": [[0, \"#8e0152\"], [0.1, \"#c51b7d\"], [0.2, \"#de77ae\"], [0.3, \"#f1b6da\"], [0.4, \"#fde0ef\"], [0.5, \"#f7f7f7\"], [0.6, \"#e6f5d0\"], [0.7, \"#b8e186\"], [0.8, \"#7fbc41\"], [0.9, \"#4d9221\"], [1, \"#276419\"]], \"sequential\": [[0.0, \"#0d0887\"], [0.1111111111111111, \"#46039f\"], [0.2222222222222222, \"#7201a8\"], [0.3333333333333333, \"#9c179e\"], [0.4444444444444444, \"#bd3786\"], [0.5555555555555556, \"#d8576b\"], [0.6666666666666666, \"#ed7953\"], [0.7777777777777778, \"#fb9f3a\"], [0.8888888888888888, \"#fdca26\"], [1.0, \"#f0f921\"]], \"sequentialminus\": [[0.0, \"#0d0887\"], [0.1111111111111111, \"#46039f\"], [0.2222222222222222, \"#7201a8\"], [0.3333333333333333, \"#9c179e\"], [0.4444444444444444, \"#bd3786\"], [0.5555555555555556, \"#d8576b\"], [0.6666666666666666, \"#ed7953\"], [0.7777777777777778, \"#fb9f3a\"], [0.8888888888888888, \"#fdca26\"], [1.0, \"#f0f921\"]]}, \"colorway\": [\"#636efa\", \"#EF553B\", \"#00cc96\", \"#ab63fa\", \"#FFA15A\", \"#19d3f3\", \"#FF6692\", \"#B6E880\", \"#FF97FF\", \"#FECB52\"], \"font\": {\"color\": \"#2a3f5f\"}, \"geo\": {\"bgcolor\": \"white\", \"lakecolor\": \"white\", \"landcolor\": \"#E5ECF6\", \"showlakes\": true, \"showland\": true, \"subunitcolor\": \"white\"}, \"hoverlabel\": {\"align\": \"left\"}, \"hovermode\": \"closest\", \"mapbox\": {\"style\": \"light\"}, \"paper_bgcolor\": \"white\", \"plot_bgcolor\": \"#E5ECF6\", \"polar\": {\"angularaxis\": {\"gridcolor\": \"white\", \"linecolor\": \"white\", \"ticks\": \"\"}, \"bgcolor\": \"#E5ECF6\", \"radialaxis\": {\"gridcolor\": \"white\", \"linecolor\": \"white\", \"ticks\": \"\"}}, \"scene\": {\"xaxis\": {\"backgroundcolor\": \"#E5ECF6\", \"gridcolor\": \"white\", \"gridwidth\": 2, \"linecolor\": \"white\", \"showbackground\": true, \"ticks\": \"\", \"zerolinecolor\": \"white\"}, \"yaxis\": {\"backgroundcolor\": \"#E5ECF6\", \"gridcolor\": \"white\", \"gridwidth\": 2, \"linecolor\": \"white\", \"showbackground\": true, \"ticks\": \"\", \"zerolinecolor\": \"white\"}, \"zaxis\": {\"backgroundcolor\": \"#E5ECF6\", \"gridcolor\": \"white\", \"gridwidth\": 2, \"linecolor\": \"white\", \"showbackground\": true, \"ticks\": \"\", \"zerolinecolor\": \"white\"}}, \"shapedefaults\": {\"line\": {\"color\": \"#2a3f5f\"}}, \"ternary\": {\"aaxis\": {\"gridcolor\": \"white\", \"linecolor\": \"white\", \"ticks\": \"\"}, \"baxis\": {\"gridcolor\": \"white\", \"linecolor\": \"white\", \"ticks\": \"\"}, \"bgcolor\": \"#E5ECF6\", \"caxis\": {\"gridcolor\": \"white\", \"linecolor\": \"white\", \"ticks\": \"\"}}, \"title\": {\"x\": 0.05}, \"xaxis\": {\"automargin\": true, \"gridcolor\": \"white\", \"linecolor\": \"white\", \"ticks\": \"\", \"title\": {\"standoff\": 15}, \"zerolinecolor\": \"white\", \"zerolinewidth\": 2}, \"yaxis\": {\"automargin\": true, \"gridcolor\": \"white\", \"linecolor\": \"white\", \"ticks\": \"\", \"title\": {\"standoff\": 15}, \"zerolinecolor\": \"white\", \"zerolinewidth\": 2}}}},\n",
              "                        {\"responsive\": true}\n",
              "                    ).then(function(){\n",
              "                            \n",
              "var gd = document.getElementById('07f6e9a9-00bf-4e1b-8d0a-4a76059d67c9');\n",
              "var x = new MutationObserver(function (mutations, observer) {{\n",
              "        var display = window.getComputedStyle(gd).display;\n",
              "        if (!display || display === 'none') {{\n",
              "            console.log([gd, 'removed!']);\n",
              "            Plotly.purge(gd);\n",
              "            observer.disconnect();\n",
              "        }}\n",
              "}});\n",
              "\n",
              "// Listen for the removal of the full notebook cells\n",
              "var notebookContainer = gd.closest('#notebook-container');\n",
              "if (notebookContainer) {{\n",
              "    x.observe(notebookContainer, {childList: true});\n",
              "}}\n",
              "\n",
              "// Listen for the clearing of the current output cell\n",
              "var outputEl = gd.closest('.output');\n",
              "if (outputEl) {{\n",
              "    x.observe(outputEl, {childList: true});\n",
              "}}\n",
              "\n",
              "                        })\n",
              "                };\n",
              "                });\n",
              "            </script>\n",
              "        </div>"
            ]
          },
          "metadata": {
            "tags": []
          }
        }
      ]
    },
    {
      "cell_type": "code",
      "metadata": {
        "id": "InO79muyllzX",
        "colab_type": "code",
        "colab": {}
      },
      "source": [
        "gd2 = data.groupby(['Cluster']).mean()"
      ],
      "execution_count": 0,
      "outputs": []
    },
    {
      "cell_type": "code",
      "metadata": {
        "id": "b-mv1gSJllzZ",
        "colab_type": "code",
        "colab": {},
        "outputId": "fbcc4cfb-514d-4a38-f6f7-3fe75117d30d"
      },
      "source": [
        "gd2.loc[0]['PCA1']"
      ],
      "execution_count": 0,
      "outputs": [
        {
          "output_type": "execute_result",
          "data": {
            "text/plain": [
              "-0.439513366977017"
            ]
          },
          "metadata": {
            "tags": []
          },
          "execution_count": 142
        }
      ]
    },
    {
      "cell_type": "code",
      "metadata": {
        "id": "XERFYiNwllzb",
        "colab_type": "code",
        "colab": {},
        "outputId": "9171db07-592c-489d-8066-09f6616822b8"
      },
      "source": [
        "plt.figure(figsize=(15,15))\n",
        "fig, ax = plt.subplots()\n",
        "color = ['blue', 'orange', 'green', 'red']\n",
        "for i in range(len(gd2)):\n",
        "    x = gd2.loc[i]['PCA1']\n",
        "    y = gd2.loc[i]['PCA2']\n",
        "    ax.scatter(x, y, c=color[i], s=200, label='cluster '+str(i+1),alpha=0.9, edgecolors='k')\n",
        "\n",
        "ax.scatter(data.PCA1,data.PCA2, color='gray', alpha =0.6)\n",
        "\n",
        "ax.legend()\n",
        "ax.grid(True)\n",
        "ax.hlines(0,data.PCA1.min(),data.PCA1.max())\n",
        "ax.vlines(0,data.PCA2.min(),data.PCA2.max())\n",
        "ax.set_xlabel('Compnente 1')\n",
        "ax.set_ylabel('Compnente 2')\n",
        "plt.show()"
      ],
      "execution_count": 0,
      "outputs": [
        {
          "output_type": "display_data",
          "data": {
            "text/plain": [
              "<Figure size 1080x1080 with 0 Axes>"
            ]
          },
          "metadata": {
            "tags": []
          }
        },
        {
          "output_type": "display_data",
          "data": {
            "image/png": "[encoded data removed]",
            "text/plain": [
              "<Figure size 432x288 with 1 Axes>"
            ]
          },
          "metadata": {
            "tags": [],
            "needs_background": "light"
          }
        }
      ]
    },
    {
      "cell_type": "code",
      "metadata": {
        "id": "TPwcNNvsllze",
        "colab_type": "code",
        "colab": {},
        "outputId": "34a0d241-7c06-48e1-d45f-ba49786742a1"
      },
      "source": [
        "comp"
      ],
      "execution_count": 0,
      "outputs": [
        {
          "output_type": "execute_result",
          "data": {
            "text/html": [
              "<div>\n",
              "<style scoped>\n",
              "    .dataframe tbody tr th:only-of-type {\n",
              "        vertical-align: middle;\n",
              "    }\n",
              "\n",
              "    .dataframe tbody tr th {\n",
              "        vertical-align: top;\n",
              "    }\n",
              "\n",
              "    .dataframe thead th {\n",
              "        text-align: right;\n",
              "    }\n",
              "</style>\n",
              "<table border=\"1\" class=\"dataframe\">\n",
              "  <thead>\n",
              "    <tr style=\"text-align: right;\">\n",
              "      <th></th>\n",
              "      <th>Body</th>\n",
              "      <th>Sweetness</th>\n",
              "      <th>Smoky</th>\n",
              "      <th>Medicinal</th>\n",
              "      <th>Tobacco</th>\n",
              "      <th>Honey</th>\n",
              "      <th>Spicy</th>\n",
              "      <th>Winey</th>\n",
              "      <th>Nutty</th>\n",
              "      <th>Malty</th>\n",
              "      <th>Fruity</th>\n",
              "      <th>Floral</th>\n",
              "    </tr>\n",
              "  </thead>\n",
              "  <tbody>\n",
              "    <tr>\n",
              "      <th>Componente 1</th>\n",
              "      <td>0.361190</td>\n",
              "      <td>-0.202982</td>\n",
              "      <td>0.477944</td>\n",
              "      <td>0.575277</td>\n",
              "      <td>0.091733</td>\n",
              "      <td>-0.220908</td>\n",
              "      <td>0.058111</td>\n",
              "      <td>-0.037456</td>\n",
              "      <td>-0.047664</td>\n",
              "      <td>-0.127816</td>\n",
              "      <td>-0.202358</td>\n",
              "      <td>-0.383944</td>\n",
              "    </tr>\n",
              "    <tr>\n",
              "      <th>Componente 2</th>\n",
              "      <td>0.491306</td>\n",
              "      <td>0.046596</td>\n",
              "      <td>0.068742</td>\n",
              "      <td>-0.160795</td>\n",
              "      <td>-0.020048</td>\n",
              "      <td>0.417995</td>\n",
              "      <td>0.175483</td>\n",
              "      <td>0.639650</td>\n",
              "      <td>0.260361</td>\n",
              "      <td>0.102962</td>\n",
              "      <td>0.123750</td>\n",
              "      <td>-0.130749</td>\n",
              "    </tr>\n",
              "  </tbody>\n",
              "</table>\n",
              "</div>"
            ],
            "text/plain": [
              "                  Body  Sweetness     Smoky  Medicinal   Tobacco     Honey  \\\n",
              "Componente 1  0.361190  -0.202982  0.477944   0.575277  0.091733 -0.220908   \n",
              "Componente 2  0.491306   0.046596  0.068742  -0.160795 -0.020048  0.417995   \n",
              "\n",
              "                 Spicy     Winey     Nutty     Malty    Fruity    Floral  \n",
              "Componente 1  0.058111 -0.037456 -0.047664 -0.127816 -0.202358 -0.383944  \n",
              "Componente 2  0.175483  0.639650  0.260361  0.102962  0.123750 -0.130749  "
            ]
          },
          "metadata": {
            "tags": []
          },
          "execution_count": 155
        }
      ]
    },
    {
      "cell_type": "code",
      "metadata": {
        "id": "FacMtFRSllzg",
        "colab_type": "code",
        "colab": {},
        "outputId": "bc0cbb09-0cb1-431a-9e7d-a7269899eecb"
      },
      "source": [
        "print(comp.loc['Componente 1'].max())\n",
        "print(comp.loc['Componente 1'].min())"
      ],
      "execution_count": 0,
      "outputs": [
        {
          "output_type": "stream",
          "text": [
            "0.575276783847503\n",
            "-0.383944430573393\n"
          ],
          "name": "stdout"
        }
      ]
    },
    {
      "cell_type": "code",
      "metadata": {
        "id": "J2_CnftPllzk",
        "colab_type": "code",
        "colab": {},
        "outputId": "301423cb-87c6-4772-caae-26dd42e3b9b8"
      },
      "source": [
        "print(comp.loc['Componente 2'].max())\n",
        "print(comp.loc['Componente 2'].min())"
      ],
      "execution_count": 0,
      "outputs": [
        {
          "output_type": "stream",
          "text": [
            "0.6396497903569636\n",
            "-0.16079483872662942\n"
          ],
          "name": "stdout"
        }
      ]
    },
    {
      "cell_type": "code",
      "metadata": {
        "id": "w4hQgNQPllzo",
        "colab_type": "code",
        "colab": {}
      },
      "source": [
        ""
      ],
      "execution_count": 0,
      "outputs": []
    }
  ]
}